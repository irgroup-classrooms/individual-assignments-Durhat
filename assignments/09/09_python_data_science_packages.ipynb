{
 "cells": [
  {
   "cell_type": "markdown",
   "metadata": {},
   "source": [
    "# DIS08 / OR92 Data Modeling: Python - Data Science Packages and Basics of Machine Learning\n",
    "\n",
    "Timo Breuer, Faculty of Information Science and Communication Studies, Institute of Information Management"
   ]
  },
  {
   "cell_type": "markdown",
   "metadata": {},
   "source": [
    "---\n",
    "## Scope of today's session\n",
    "---\n",
    " \n",
    "- Overview of common Python data science packages\n",
    "- Commonly used datasets (in education) \n",
    "- Basic statistics (with pandas)\n",
    "- Data visualisation (with pandas, seaborn, matplotlib)\n",
    "- Basic introduction to machine learning pipelines (with sklearn and tensorflow)"
   ]
  },
  {
   "cell_type": "markdown",
   "metadata": {},
   "source": [
    "---\n",
    "## Common Python Packages for Data Science \n",
    "--- \n",
    "\n",
    "**Data acquisition / web scraping / parsing**\n",
    "- requests: https://docs.python-requests.org/en/latest/index.html\n",
    "- beautifulsoup: https://beautiful-soup-4.readthedocs.io/en/latest/\n",
    "- scrapy: https://scrapy.org/\n",
    "- parsel: https://parsel.readthedocs.io/en/latest/\n",
    "\n",
    "**Data analysis / numerical operations / statistics**\n",
    "- pandas: https://pandas.pydata.org/\n",
    "- numpy: http://www.numpy.org/\n",
    "- scipy: https://www.scipy.org/\n",
    "- statsmodels: https://www.statsmodels.org/stable/index.html\n",
    "\n",
    "**Data visualisation / presentation**\n",
    "- matplotlib: https://matplotlib.org/\n",
    "- seaborn: https://seaborn.pydata.org/\n",
    "- bokeh: https://bokeh.org/\n",
    "- plotly: https://plotly.com/\n",
    "\n",
    "**Machine learning / deep learning** \n",
    "- scikit-learn: https://scikit-learn.org/stable/\n",
    "- tensorflow: https://www.tensorflow.org/\n",
    "- keras: https://keras.io/\n",
    "- pytorch: https://pytorch.org/"
   ]
  },
  {
   "cell_type": "markdown",
   "metadata": {},
   "source": [
    "---\n",
    "## Common Datasets\n",
    "---\n",
    "\n",
    "**Note: Many of these datasets can be directly loaded from data science packages, e.g., sklearn or seaborn. There is no need to download the datasets with your own scripts from the original source or somewhere else.**\n",
    "\n",
    "### 1. Iris Dataset\n",
    "\n",
    "**Description:** The Iris dataset is one of the most famous datasets in machine learning. It contains measurements of iris flowers from three different species: Setosa, Versicolor, and Virginica. The dataset includes four features: sepal length, sepal width, petal length, and petal width.\n",
    "\n",
    "**Use Cases:** It is often used for classification tasks, particularly for demonstrating algorithms like k-Nearest Neighbors (k-NN), decision trees, and support vector machines (SVM).\n",
    "\n",
    "**Size:** The dataset consists of 150 samples, with 50 samples for each species.\n",
    "\n",
    "**Source:** https://archive.ics.uci.edu/dataset/53/iris\n",
    "\n",
    "### 2. Titanic Dataset\n",
    "\n",
    "**Description:** The Titanic dataset contains information about the passengers aboard the Titanic, including whether they survived or not. Features include passenger class, sex, age, number of siblings/spouses aboard, number of parents/children aboard, fare paid, and more.\n",
    "\n",
    "**Use Cases:** This dataset is commonly used for binary classification tasks, such as predicting survival based on various features. It is also useful for demonstrating data preprocessing, feature engineering, and exploratory data analysis.\n",
    "\n",
    "**Size:** The dataset contains 891 entries.\n",
    "\n",
    "**Source:** https://www.openml.org/search?type=data&sort=runs&id=40945&status=active\n",
    "\n",
    "### 3. Wine Quality Dataset\n",
    "\n",
    "**Description:** The Wine Quality dataset contains information about red and white wines from Portugal. It includes various physicochemical tests (e.g., acidity, sugar, pH, alcohol content) and a quality score (ranging from 0 to 10) assigned by wine experts. The dataset is divided into two parts: one for red wine and one for white wine.\n",
    "\n",
    "**Use Cases:** This dataset is typically used for regression tasks (predicting the quality score) and classification tasks (classifying wines into quality categories). It is useful for demonstrating regression algorithms, classification algorithms, and techniques for handling imbalanced datasets.\n",
    "\n",
    "**Size:** The red wine dataset contains 1,599 samples, while the white wine dataset contains 4,898 samples.\n",
    "\n",
    "**Source:** https://archive.ics.uci.edu/dataset/186/wine+quality\n",
    "\n",
    "### (4. MNIST Dataset)\n",
    "\n",
    "**Description:** The MNIST dataset is a large collection of handwritten digits (0-9) that is widely used for training various image processing systems. It consists of grayscale images of size 28x28 pixels, along with their corresponding labels.\n",
    "\n",
    "**Use Cases:** This dataset is primarily used for image classification tasks and is a standard benchmark for evaluating machine learning algorithms, particularly convolutional neural networks (CNNs).\n",
    "\n",
    "**Size:** The dataset contains 70,000 images, with 60,000 for training and 10,000 for testing.\n",
    "\n",
    "**Source:** https://yann.lecun.com/exdb/mnist/\n",
    "\n",
    "\n",
    "### (5. Boston Housing Dataset)\n",
    "\n",
    "**Description:** The Boston Housing dataset contains information about housing values in suburbs of Boston. It includes features such as the number of rooms, crime rate, property tax rate, and distance to employment centers, among others. The target variable is the median value of owner-occupied homes.\n",
    "\n",
    "**Use Cases:** This dataset is typically used for regression tasks, where the goal is to predict housing prices based on the features. It is often used to demonstrate linear regression and other regression algorithms.\n",
    "\n",
    "**Size:** The dataset consists of 506 samples.\n",
    "\n",
    "**Source:** https://www.cs.toronto.edu/~delve/data/boston/bostonDetail.html\n",
    "\n",
    "**WARNING:** This dataset has ethical problems and some packages do not support their use anymore. For instance: https://scikit-learn.org/1.0/modules/generated/sklearn.datasets.load_boston.html This dataset is included in this overview to make you aware of this issue, as this dataset is quite popular.\n",
    "\n",
    "_(In the following, we will focus on the first three datasets. The MNIST dataset is used for image classification tasks and is slightly out of scope. However, it might be useful to know about this dataset at some point in the future. **The use of the Boston Housing Dataset is also not recommended.**)_\n"
   ]
  },
  {
   "cell_type": "markdown",
   "metadata": {},
   "source": [
    "---\n",
    "## Basic statistics with pandas\n",
    "---"
   ]
  },
  {
   "cell_type": "markdown",
   "metadata": {},
   "source": [
    "Install the required packages first"
   ]
  },
  {
   "cell_type": "code",
   "execution_count": 1,
   "metadata": {},
   "outputs": [
    {
     "name": "stdout",
     "output_type": "stream",
     "text": [
      "Collecting scikit-learn\n",
      "  Downloading scikit_learn-1.6.1-cp311-cp311-macosx_12_0_arm64.whl.metadata (31 kB)\n",
      "Requirement already satisfied: pandas in /opt/anaconda3/envs/webscraping/lib/python3.11/site-packages (2.2.3)\n",
      "Requirement already satisfied: numpy in /opt/anaconda3/envs/webscraping/lib/python3.11/site-packages (1.26.4)\n",
      "Requirement already satisfied: matplotlib in /opt/anaconda3/envs/webscraping/lib/python3.11/site-packages (3.10.0)\n",
      "Requirement already satisfied: seaborn in /opt/anaconda3/envs/webscraping/lib/python3.11/site-packages (0.13.2)\n",
      "Collecting tensorflow\n",
      "  Downloading tensorflow-2.18.0-cp311-cp311-macosx_12_0_arm64.whl.metadata (4.0 kB)\n",
      "Collecting scipy>=1.6.0 (from scikit-learn)\n",
      "  Downloading scipy-1.15.1-cp311-cp311-macosx_14_0_arm64.whl.metadata (61 kB)\n",
      "Collecting joblib>=1.2.0 (from scikit-learn)\n",
      "  Downloading joblib-1.4.2-py3-none-any.whl.metadata (5.4 kB)\n",
      "Collecting threadpoolctl>=3.1.0 (from scikit-learn)\n",
      "  Downloading threadpoolctl-3.5.0-py3-none-any.whl.metadata (13 kB)\n",
      "Requirement already satisfied: python-dateutil>=2.8.2 in /opt/anaconda3/envs/webscraping/lib/python3.11/site-packages (from pandas) (2.9.0.post0)\n",
      "Requirement already satisfied: pytz>=2020.1 in /opt/anaconda3/envs/webscraping/lib/python3.11/site-packages (from pandas) (2024.1)\n",
      "Requirement already satisfied: tzdata>=2022.7 in /opt/anaconda3/envs/webscraping/lib/python3.11/site-packages (from pandas) (2023.3)\n",
      "Requirement already satisfied: contourpy>=1.0.1 in /opt/anaconda3/envs/webscraping/lib/python3.11/site-packages (from matplotlib) (1.3.1)\n",
      "Requirement already satisfied: cycler>=0.10 in /opt/anaconda3/envs/webscraping/lib/python3.11/site-packages (from matplotlib) (0.11.0)\n",
      "Requirement already satisfied: fonttools>=4.22.0 in /opt/anaconda3/envs/webscraping/lib/python3.11/site-packages (from matplotlib) (4.55.3)\n",
      "Requirement already satisfied: kiwisolver>=1.3.1 in /opt/anaconda3/envs/webscraping/lib/python3.11/site-packages (from matplotlib) (1.4.8)\n",
      "Requirement already satisfied: packaging>=20.0 in /opt/anaconda3/envs/webscraping/lib/python3.11/site-packages (from matplotlib) (24.1)\n",
      "Requirement already satisfied: pillow>=8 in /opt/anaconda3/envs/webscraping/lib/python3.11/site-packages (from matplotlib) (11.1.0)\n",
      "Requirement already satisfied: pyparsing>=2.3.1 in /opt/anaconda3/envs/webscraping/lib/python3.11/site-packages (from matplotlib) (3.2.0)\n",
      "Collecting absl-py>=1.0.0 (from tensorflow)\n",
      "  Downloading absl_py-2.1.0-py3-none-any.whl.metadata (2.3 kB)\n",
      "Collecting astunparse>=1.6.0 (from tensorflow)\n",
      "  Downloading astunparse-1.6.3-py2.py3-none-any.whl.metadata (4.4 kB)\n",
      "Collecting flatbuffers>=24.3.25 (from tensorflow)\n",
      "  Downloading flatbuffers-25.1.24-py2.py3-none-any.whl.metadata (875 bytes)\n",
      "Collecting gast!=0.5.0,!=0.5.1,!=0.5.2,>=0.2.1 (from tensorflow)\n",
      "  Downloading gast-0.6.0-py3-none-any.whl.metadata (1.3 kB)\n",
      "Collecting google-pasta>=0.1.1 (from tensorflow)\n",
      "  Downloading google_pasta-0.2.0-py3-none-any.whl.metadata (814 bytes)\n",
      "Collecting libclang>=13.0.0 (from tensorflow)\n",
      "  Downloading libclang-18.1.1-1-py2.py3-none-macosx_11_0_arm64.whl.metadata (5.2 kB)\n",
      "Collecting opt-einsum>=2.3.2 (from tensorflow)\n",
      "  Downloading opt_einsum-3.4.0-py3-none-any.whl.metadata (6.3 kB)\n",
      "Collecting protobuf!=4.21.0,!=4.21.1,!=4.21.2,!=4.21.3,!=4.21.4,!=4.21.5,<6.0.0dev,>=3.20.3 (from tensorflow)\n",
      "  Downloading protobuf-5.29.3-cp38-abi3-macosx_10_9_universal2.whl.metadata (592 bytes)\n",
      "Requirement already satisfied: requests<3,>=2.21.0 in /opt/anaconda3/envs/webscraping/lib/python3.11/site-packages (from tensorflow) (2.32.3)\n",
      "Requirement already satisfied: setuptools in /opt/anaconda3/envs/webscraping/lib/python3.11/site-packages (from tensorflow) (75.1.0)\n",
      "Requirement already satisfied: six>=1.12.0 in /opt/anaconda3/envs/webscraping/lib/python3.11/site-packages (from tensorflow) (1.16.0)\n",
      "Collecting termcolor>=1.1.0 (from tensorflow)\n",
      "  Downloading termcolor-2.5.0-py3-none-any.whl.metadata (6.1 kB)\n",
      "Requirement already satisfied: typing-extensions>=3.6.6 in /opt/anaconda3/envs/webscraping/lib/python3.11/site-packages (from tensorflow) (4.11.0)\n",
      "Collecting wrapt>=1.11.0 (from tensorflow)\n",
      "  Downloading wrapt-1.17.2-cp311-cp311-macosx_11_0_arm64.whl.metadata (6.4 kB)\n",
      "Collecting grpcio<2.0,>=1.24.3 (from tensorflow)\n",
      "  Downloading grpcio-1.70.0-cp311-cp311-macosx_10_14_universal2.whl.metadata (3.9 kB)\n",
      "Collecting tensorboard<2.19,>=2.18 (from tensorflow)\n",
      "  Downloading tensorboard-2.18.0-py3-none-any.whl.metadata (1.6 kB)\n",
      "Collecting keras>=3.5.0 (from tensorflow)\n",
      "  Downloading keras-3.8.0-py3-none-any.whl.metadata (5.8 kB)\n",
      "Collecting h5py>=3.11.0 (from tensorflow)\n",
      "  Downloading h5py-3.12.1-cp311-cp311-macosx_11_0_arm64.whl.metadata (2.5 kB)\n",
      "Collecting ml-dtypes<0.5.0,>=0.4.0 (from tensorflow)\n",
      "  Downloading ml_dtypes-0.4.1-cp311-cp311-macosx_10_9_universal2.whl.metadata (20 kB)\n",
      "Collecting tensorflow-io-gcs-filesystem>=0.23.1 (from tensorflow)\n",
      "  Downloading tensorflow_io_gcs_filesystem-0.37.1-cp311-cp311-macosx_12_0_arm64.whl.metadata (14 kB)\n",
      "Requirement already satisfied: wheel<1.0,>=0.23.0 in /opt/anaconda3/envs/webscraping/lib/python3.11/site-packages (from astunparse>=1.6.0->tensorflow) (0.44.0)\n",
      "Collecting rich (from keras>=3.5.0->tensorflow)\n",
      "  Downloading rich-13.9.4-py3-none-any.whl.metadata (18 kB)\n",
      "Collecting namex (from keras>=3.5.0->tensorflow)\n",
      "  Downloading namex-0.0.8-py3-none-any.whl.metadata (246 bytes)\n",
      "Collecting optree (from keras>=3.5.0->tensorflow)\n",
      "  Downloading optree-0.14.0-cp311-cp311-macosx_11_0_arm64.whl.metadata (47 kB)\n",
      "Requirement already satisfied: charset-normalizer<4,>=2 in /opt/anaconda3/envs/webscraping/lib/python3.11/site-packages (from requests<3,>=2.21.0->tensorflow) (3.3.2)\n",
      "Requirement already satisfied: idna<4,>=2.5 in /opt/anaconda3/envs/webscraping/lib/python3.11/site-packages (from requests<3,>=2.21.0->tensorflow) (3.7)\n",
      "Requirement already satisfied: urllib3<3,>=1.21.1 in /opt/anaconda3/envs/webscraping/lib/python3.11/site-packages (from requests<3,>=2.21.0->tensorflow) (2.2.3)\n",
      "Requirement already satisfied: certifi>=2017.4.17 in /opt/anaconda3/envs/webscraping/lib/python3.11/site-packages (from requests<3,>=2.21.0->tensorflow) (2024.12.14)\n",
      "Collecting markdown>=2.6.8 (from tensorboard<2.19,>=2.18->tensorflow)\n",
      "  Downloading Markdown-3.7-py3-none-any.whl.metadata (7.0 kB)\n",
      "Collecting tensorboard-data-server<0.8.0,>=0.7.0 (from tensorboard<2.19,>=2.18->tensorflow)\n",
      "  Downloading tensorboard_data_server-0.7.2-py3-none-any.whl.metadata (1.1 kB)\n",
      "Collecting werkzeug>=1.0.1 (from tensorboard<2.19,>=2.18->tensorflow)\n",
      "  Downloading werkzeug-3.1.3-py3-none-any.whl.metadata (3.7 kB)\n",
      "Collecting MarkupSafe>=2.1.1 (from werkzeug>=1.0.1->tensorboard<2.19,>=2.18->tensorflow)\n",
      "  Downloading MarkupSafe-3.0.2-cp311-cp311-macosx_11_0_arm64.whl.metadata (4.0 kB)\n",
      "Collecting markdown-it-py>=2.2.0 (from rich->keras>=3.5.0->tensorflow)\n",
      "  Downloading markdown_it_py-3.0.0-py3-none-any.whl.metadata (6.9 kB)\n",
      "Requirement already satisfied: pygments<3.0.0,>=2.13.0 in /opt/anaconda3/envs/webscraping/lib/python3.11/site-packages (from rich->keras>=3.5.0->tensorflow) (2.18.0)\n",
      "Collecting mdurl~=0.1 (from markdown-it-py>=2.2.0->rich->keras>=3.5.0->tensorflow)\n",
      "  Downloading mdurl-0.1.2-py3-none-any.whl.metadata (1.6 kB)\n",
      "Downloading scikit_learn-1.6.1-cp311-cp311-macosx_12_0_arm64.whl (11.1 MB)\n",
      "\u001b[2K   \u001b[90m━━━━━━━━━━━━━━━━━━━━━━━━━━━━━━━━━━━━━━━━\u001b[0m \u001b[32m11.1/11.1 MB\u001b[0m \u001b[31m10.4 MB/s\u001b[0m eta \u001b[36m0:00:00\u001b[0ma \u001b[36m0:00:01\u001b[0m\n",
      "\u001b[?25hDownloading tensorflow-2.18.0-cp311-cp311-macosx_12_0_arm64.whl (239.5 MB)\n",
      "\u001b[2K   \u001b[90m━━━━━━━━━━━━━━━━━━━━━━━━━━━━━━━━━━━━━━━━\u001b[0m \u001b[32m239.5/239.5 MB\u001b[0m \u001b[31m30.8 MB/s\u001b[0m eta \u001b[36m0:00:00\u001b[0m00:01\u001b[0m00:01\u001b[0m\n",
      "\u001b[?25hDownloading absl_py-2.1.0-py3-none-any.whl (133 kB)\n",
      "Downloading astunparse-1.6.3-py2.py3-none-any.whl (12 kB)\n",
      "Downloading flatbuffers-25.1.24-py2.py3-none-any.whl (30 kB)\n",
      "Downloading gast-0.6.0-py3-none-any.whl (21 kB)\n",
      "Downloading google_pasta-0.2.0-py3-none-any.whl (57 kB)\n",
      "Downloading grpcio-1.70.0-cp311-cp311-macosx_10_14_universal2.whl (11.5 MB)\n",
      "\u001b[2K   \u001b[90m━━━━━━━━━━━━━━━━━━━━━━━━━━━━━━━━━━━━━━━━\u001b[0m \u001b[32m11.5/11.5 MB\u001b[0m \u001b[31m52.4 MB/s\u001b[0m eta \u001b[36m0:00:00\u001b[0m00:01\u001b[0m\n",
      "\u001b[?25hDownloading h5py-3.12.1-cp311-cp311-macosx_11_0_arm64.whl (2.9 MB)\n",
      "\u001b[2K   \u001b[90m━━━━━━━━━━━━━━━━━━━━━━━━━━━━━━━━━━━━━━━━\u001b[0m \u001b[32m2.9/2.9 MB\u001b[0m \u001b[31m43.6 MB/s\u001b[0m eta \u001b[36m0:00:00\u001b[0m\n",
      "\u001b[?25hDownloading joblib-1.4.2-py3-none-any.whl (301 kB)\n",
      "Downloading keras-3.8.0-py3-none-any.whl (1.3 MB)\n",
      "\u001b[2K   \u001b[90m━━━━━━━━━━━━━━━━━━━━━━━━━━━━━━━━━━━━━━━━\u001b[0m \u001b[32m1.3/1.3 MB\u001b[0m \u001b[31m37.4 MB/s\u001b[0m eta \u001b[36m0:00:00\u001b[0m\n",
      "\u001b[?25hDownloading libclang-18.1.1-1-py2.py3-none-macosx_11_0_arm64.whl (25.8 MB)\n",
      "\u001b[2K   \u001b[90m━━━━━━━━━━━━━━━━━━━━━━━━━━━━━━━━━━━━━━━━\u001b[0m \u001b[32m25.8/25.8 MB\u001b[0m \u001b[31m41.5 MB/s\u001b[0m eta \u001b[36m0:00:00\u001b[0m00:01\u001b[0m00:01\u001b[0m\n",
      "\u001b[?25hDownloading ml_dtypes-0.4.1-cp311-cp311-macosx_10_9_universal2.whl (397 kB)\n",
      "Downloading opt_einsum-3.4.0-py3-none-any.whl (71 kB)\n",
      "Downloading protobuf-5.29.3-cp38-abi3-macosx_10_9_universal2.whl (417 kB)\n",
      "Downloading scipy-1.15.1-cp311-cp311-macosx_14_0_arm64.whl (24.8 MB)\n",
      "\u001b[2K   \u001b[90m━━━━━━━━━━━━━━━━━━━━━━━━━━━━━━━━━━━━━━━━\u001b[0m \u001b[32m24.8/24.8 MB\u001b[0m \u001b[31m43.4 MB/s\u001b[0m eta \u001b[36m0:00:00\u001b[0ma \u001b[36m0:00:01\u001b[0m\n",
      "\u001b[?25hDownloading tensorboard-2.18.0-py3-none-any.whl (5.5 MB)\n",
      "\u001b[2K   \u001b[90m━━━━━━━━━━━━━━━━━━━━━━━━━━━━━━━━━━━━━━━━\u001b[0m \u001b[32m5.5/5.5 MB\u001b[0m \u001b[31m22.4 MB/s\u001b[0m eta \u001b[36m0:00:00\u001b[0ma \u001b[36m0:00:01\u001b[0m\n",
      "\u001b[?25hDownloading tensorflow_io_gcs_filesystem-0.37.1-cp311-cp311-macosx_12_0_arm64.whl (3.5 MB)\n",
      "\u001b[2K   \u001b[90m━━━━━━━━━━━━━━━━━━━━━━━━━━━━━━━━━━━━━━━━\u001b[0m \u001b[32m3.5/3.5 MB\u001b[0m \u001b[31m41.3 MB/s\u001b[0m eta \u001b[36m0:00:00\u001b[0m\n",
      "\u001b[?25hDownloading termcolor-2.5.0-py3-none-any.whl (7.8 kB)\n",
      "Downloading threadpoolctl-3.5.0-py3-none-any.whl (18 kB)\n",
      "Downloading wrapt-1.17.2-cp311-cp311-macosx_11_0_arm64.whl (38 kB)\n",
      "Downloading Markdown-3.7-py3-none-any.whl (106 kB)\n",
      "Downloading tensorboard_data_server-0.7.2-py3-none-any.whl (2.4 kB)\n",
      "Downloading werkzeug-3.1.3-py3-none-any.whl (224 kB)\n",
      "Downloading namex-0.0.8-py3-none-any.whl (5.8 kB)\n",
      "Downloading optree-0.14.0-cp311-cp311-macosx_11_0_arm64.whl (332 kB)\n",
      "Downloading rich-13.9.4-py3-none-any.whl (242 kB)\n",
      "Downloading markdown_it_py-3.0.0-py3-none-any.whl (87 kB)\n",
      "Downloading MarkupSafe-3.0.2-cp311-cp311-macosx_11_0_arm64.whl (12 kB)\n",
      "Downloading mdurl-0.1.2-py3-none-any.whl (10.0 kB)\n",
      "Installing collected packages: namex, libclang, flatbuffers, wrapt, threadpoolctl, termcolor, tensorflow-io-gcs-filesystem, tensorboard-data-server, scipy, protobuf, optree, opt-einsum, ml-dtypes, mdurl, MarkupSafe, markdown, joblib, h5py, grpcio, google-pasta, gast, astunparse, absl-py, werkzeug, scikit-learn, markdown-it-py, tensorboard, rich, keras, tensorflow\n",
      "Successfully installed MarkupSafe-3.0.2 absl-py-2.1.0 astunparse-1.6.3 flatbuffers-25.1.24 gast-0.6.0 google-pasta-0.2.0 grpcio-1.70.0 h5py-3.12.1 joblib-1.4.2 keras-3.8.0 libclang-18.1.1 markdown-3.7 markdown-it-py-3.0.0 mdurl-0.1.2 ml-dtypes-0.4.1 namex-0.0.8 opt-einsum-3.4.0 optree-0.14.0 protobuf-5.29.3 rich-13.9.4 scikit-learn-1.6.1 scipy-1.15.1 tensorboard-2.18.0 tensorboard-data-server-0.7.2 tensorflow-2.18.0 tensorflow-io-gcs-filesystem-0.37.1 termcolor-2.5.0 threadpoolctl-3.5.0 werkzeug-3.1.3 wrapt-1.17.2\n"
     ]
    }
   ],
   "source": [
    "!pip install scikit-learn pandas numpy matplotlib seaborn tensorflow"
   ]
  },
  {
   "cell_type": "markdown",
   "metadata": {},
   "source": [
    "### 1. Descriptive Statistics\n",
    "\n",
    "**Dataset:** Iris  \n",
    "**Problem:** Calculate mean, median, and standard deviation for each numeric column."
   ]
  },
  {
   "cell_type": "code",
   "execution_count": 3,
   "metadata": {},
   "outputs": [
    {
     "ename": "AttributeError",
     "evalue": "partially initialized module 'pandas' has no attribute '_pandas_datetime_CAPI' (most likely due to a circular import)",
     "output_type": "error",
     "traceback": [
      "\u001b[0;31m---------------------------------------------------------------------------\u001b[0m",
      "\u001b[0;31mAttributeError\u001b[0m                            Traceback (most recent call last)",
      "Cell \u001b[0;32mIn[3], line 1\u001b[0m\n\u001b[0;32m----> 1\u001b[0m \u001b[38;5;28;01mimport\u001b[39;00m \u001b[38;5;21;01mpandas\u001b[39;00m \u001b[38;5;28;01mas\u001b[39;00m \u001b[38;5;21;01mpd\u001b[39;00m\n\u001b[1;32m      2\u001b[0m \u001b[38;5;28;01mfrom\u001b[39;00m \u001b[38;5;21;01msklearn\u001b[39;00m\u001b[38;5;21;01m.\u001b[39;00m\u001b[38;5;21;01mdatasets\u001b[39;00m \u001b[38;5;28;01mimport\u001b[39;00m load_iris\n\u001b[1;32m      4\u001b[0m iris \u001b[38;5;241m=\u001b[39m load_iris(as_frame\u001b[38;5;241m=\u001b[39m\u001b[38;5;28;01mTrue\u001b[39;00m)\u001b[38;5;241m.\u001b[39mframe\n",
      "File \u001b[0;32m/opt/anaconda3/envs/webscraping/lib/python3.11/site-packages/pandas/__init__.py:49\u001b[0m\n\u001b[1;32m     46\u001b[0m \u001b[38;5;66;03m# let init-time option registration happen\u001b[39;00m\n\u001b[1;32m     47\u001b[0m \u001b[38;5;28;01mimport\u001b[39;00m \u001b[38;5;21;01mpandas\u001b[39;00m\u001b[38;5;21;01m.\u001b[39;00m\u001b[38;5;21;01mcore\u001b[39;00m\u001b[38;5;21;01m.\u001b[39;00m\u001b[38;5;21;01mconfig_init\u001b[39;00m  \u001b[38;5;66;03m# pyright: ignore[reportUnusedImport] # noqa: F401\u001b[39;00m\n\u001b[0;32m---> 49\u001b[0m \u001b[38;5;28;01mfrom\u001b[39;00m \u001b[38;5;21;01mpandas\u001b[39;00m\u001b[38;5;21;01m.\u001b[39;00m\u001b[38;5;21;01mcore\u001b[39;00m\u001b[38;5;21;01m.\u001b[39;00m\u001b[38;5;21;01mapi\u001b[39;00m \u001b[38;5;28;01mimport\u001b[39;00m (\n\u001b[1;32m     50\u001b[0m     \u001b[38;5;66;03m# dtype\u001b[39;00m\n\u001b[1;32m     51\u001b[0m     ArrowDtype,\n\u001b[1;32m     52\u001b[0m     Int8Dtype,\n\u001b[1;32m     53\u001b[0m     Int16Dtype,\n\u001b[1;32m     54\u001b[0m     Int32Dtype,\n\u001b[1;32m     55\u001b[0m     Int64Dtype,\n\u001b[1;32m     56\u001b[0m     UInt8Dtype,\n\u001b[1;32m     57\u001b[0m     UInt16Dtype,\n\u001b[1;32m     58\u001b[0m     UInt32Dtype,\n\u001b[1;32m     59\u001b[0m     UInt64Dtype,\n\u001b[1;32m     60\u001b[0m     Float32Dtype,\n\u001b[1;32m     61\u001b[0m     Float64Dtype,\n\u001b[1;32m     62\u001b[0m     CategoricalDtype,\n\u001b[1;32m     63\u001b[0m     PeriodDtype,\n\u001b[1;32m     64\u001b[0m     IntervalDtype,\n\u001b[1;32m     65\u001b[0m     DatetimeTZDtype,\n\u001b[1;32m     66\u001b[0m     StringDtype,\n\u001b[1;32m     67\u001b[0m     BooleanDtype,\n\u001b[1;32m     68\u001b[0m     \u001b[38;5;66;03m# missing\u001b[39;00m\n\u001b[1;32m     69\u001b[0m     NA,\n\u001b[1;32m     70\u001b[0m     isna,\n\u001b[1;32m     71\u001b[0m     isnull,\n\u001b[1;32m     72\u001b[0m     notna,\n\u001b[1;32m     73\u001b[0m     notnull,\n\u001b[1;32m     74\u001b[0m     \u001b[38;5;66;03m# indexes\u001b[39;00m\n\u001b[1;32m     75\u001b[0m     Index,\n\u001b[1;32m     76\u001b[0m     CategoricalIndex,\n\u001b[1;32m     77\u001b[0m     RangeIndex,\n\u001b[1;32m     78\u001b[0m     MultiIndex,\n\u001b[1;32m     79\u001b[0m     IntervalIndex,\n\u001b[1;32m     80\u001b[0m     TimedeltaIndex,\n\u001b[1;32m     81\u001b[0m     DatetimeIndex,\n\u001b[1;32m     82\u001b[0m     PeriodIndex,\n\u001b[1;32m     83\u001b[0m     IndexSlice,\n\u001b[1;32m     84\u001b[0m     \u001b[38;5;66;03m# tseries\u001b[39;00m\n\u001b[1;32m     85\u001b[0m     NaT,\n\u001b[1;32m     86\u001b[0m     Period,\n\u001b[1;32m     87\u001b[0m     period_range,\n\u001b[1;32m     88\u001b[0m     Timedelta,\n\u001b[1;32m     89\u001b[0m     timedelta_range,\n\u001b[1;32m     90\u001b[0m     Timestamp,\n\u001b[1;32m     91\u001b[0m     date_range,\n\u001b[1;32m     92\u001b[0m     bdate_range,\n\u001b[1;32m     93\u001b[0m     Interval,\n\u001b[1;32m     94\u001b[0m     interval_range,\n\u001b[1;32m     95\u001b[0m     DateOffset,\n\u001b[1;32m     96\u001b[0m     \u001b[38;5;66;03m# conversion\u001b[39;00m\n\u001b[1;32m     97\u001b[0m     to_numeric,\n\u001b[1;32m     98\u001b[0m     to_datetime,\n\u001b[1;32m     99\u001b[0m     to_timedelta,\n\u001b[1;32m    100\u001b[0m     \u001b[38;5;66;03m# misc\u001b[39;00m\n\u001b[1;32m    101\u001b[0m     Flags,\n\u001b[1;32m    102\u001b[0m     Grouper,\n\u001b[1;32m    103\u001b[0m     factorize,\n\u001b[1;32m    104\u001b[0m     unique,\n\u001b[1;32m    105\u001b[0m     value_counts,\n\u001b[1;32m    106\u001b[0m     NamedAgg,\n\u001b[1;32m    107\u001b[0m     array,\n\u001b[1;32m    108\u001b[0m     Categorical,\n\u001b[1;32m    109\u001b[0m     set_eng_float_format,\n\u001b[1;32m    110\u001b[0m     Series,\n\u001b[1;32m    111\u001b[0m     DataFrame,\n\u001b[1;32m    112\u001b[0m )\n\u001b[1;32m    114\u001b[0m \u001b[38;5;28;01mfrom\u001b[39;00m \u001b[38;5;21;01mpandas\u001b[39;00m\u001b[38;5;21;01m.\u001b[39;00m\u001b[38;5;21;01mcore\u001b[39;00m\u001b[38;5;21;01m.\u001b[39;00m\u001b[38;5;21;01mdtypes\u001b[39;00m\u001b[38;5;21;01m.\u001b[39;00m\u001b[38;5;21;01mdtypes\u001b[39;00m \u001b[38;5;28;01mimport\u001b[39;00m SparseDtype\n\u001b[1;32m    116\u001b[0m \u001b[38;5;28;01mfrom\u001b[39;00m \u001b[38;5;21;01mpandas\u001b[39;00m\u001b[38;5;21;01m.\u001b[39;00m\u001b[38;5;21;01mtseries\u001b[39;00m\u001b[38;5;21;01m.\u001b[39;00m\u001b[38;5;21;01mapi\u001b[39;00m \u001b[38;5;28;01mimport\u001b[39;00m infer_freq\n",
      "File \u001b[0;32m/opt/anaconda3/envs/webscraping/lib/python3.11/site-packages/pandas/core/api.py:1\u001b[0m\n\u001b[0;32m----> 1\u001b[0m \u001b[38;5;28;01mfrom\u001b[39;00m \u001b[38;5;21;01mpandas\u001b[39;00m\u001b[38;5;21;01m.\u001b[39;00m\u001b[38;5;21;01m_libs\u001b[39;00m \u001b[38;5;28;01mimport\u001b[39;00m (\n\u001b[1;32m      2\u001b[0m     NaT,\n\u001b[1;32m      3\u001b[0m     Period,\n\u001b[1;32m      4\u001b[0m     Timedelta,\n\u001b[1;32m      5\u001b[0m     Timestamp,\n\u001b[1;32m      6\u001b[0m )\n\u001b[1;32m      7\u001b[0m \u001b[38;5;28;01mfrom\u001b[39;00m \u001b[38;5;21;01mpandas\u001b[39;00m\u001b[38;5;21;01m.\u001b[39;00m\u001b[38;5;21;01m_libs\u001b[39;00m\u001b[38;5;21;01m.\u001b[39;00m\u001b[38;5;21;01mmissing\u001b[39;00m \u001b[38;5;28;01mimport\u001b[39;00m NA\n\u001b[1;32m      9\u001b[0m \u001b[38;5;28;01mfrom\u001b[39;00m \u001b[38;5;21;01mpandas\u001b[39;00m\u001b[38;5;21;01m.\u001b[39;00m\u001b[38;5;21;01mcore\u001b[39;00m\u001b[38;5;21;01m.\u001b[39;00m\u001b[38;5;21;01mdtypes\u001b[39;00m\u001b[38;5;21;01m.\u001b[39;00m\u001b[38;5;21;01mdtypes\u001b[39;00m \u001b[38;5;28;01mimport\u001b[39;00m (\n\u001b[1;32m     10\u001b[0m     ArrowDtype,\n\u001b[1;32m     11\u001b[0m     CategoricalDtype,\n\u001b[0;32m   (...)\u001b[0m\n\u001b[1;32m     14\u001b[0m     PeriodDtype,\n\u001b[1;32m     15\u001b[0m )\n",
      "File \u001b[0;32m/opt/anaconda3/envs/webscraping/lib/python3.11/site-packages/pandas/_libs/__init__.py:18\u001b[0m\n\u001b[1;32m     16\u001b[0m \u001b[38;5;28;01mimport\u001b[39;00m \u001b[38;5;21;01mpandas\u001b[39;00m\u001b[38;5;21;01m.\u001b[39;00m\u001b[38;5;21;01m_libs\u001b[39;00m\u001b[38;5;21;01m.\u001b[39;00m\u001b[38;5;21;01mpandas_parser\u001b[39;00m  \u001b[38;5;66;03m# isort: skip # type: ignore[reportUnusedImport]\u001b[39;00m\n\u001b[1;32m     17\u001b[0m \u001b[38;5;28;01mimport\u001b[39;00m \u001b[38;5;21;01mpandas\u001b[39;00m\u001b[38;5;21;01m.\u001b[39;00m\u001b[38;5;21;01m_libs\u001b[39;00m\u001b[38;5;21;01m.\u001b[39;00m\u001b[38;5;21;01mpandas_datetime\u001b[39;00m  \u001b[38;5;66;03m# noqa: F401 # isort: skip # type: ignore[reportUnusedImport]\u001b[39;00m\n\u001b[0;32m---> 18\u001b[0m \u001b[38;5;28;01mfrom\u001b[39;00m \u001b[38;5;21;01mpandas\u001b[39;00m\u001b[38;5;21;01m.\u001b[39;00m\u001b[38;5;21;01m_libs\u001b[39;00m\u001b[38;5;21;01m.\u001b[39;00m\u001b[38;5;21;01minterval\u001b[39;00m \u001b[38;5;28;01mimport\u001b[39;00m Interval\n\u001b[1;32m     19\u001b[0m \u001b[38;5;28;01mfrom\u001b[39;00m \u001b[38;5;21;01mpandas\u001b[39;00m\u001b[38;5;21;01m.\u001b[39;00m\u001b[38;5;21;01m_libs\u001b[39;00m\u001b[38;5;21;01m.\u001b[39;00m\u001b[38;5;21;01mtslibs\u001b[39;00m \u001b[38;5;28;01mimport\u001b[39;00m (\n\u001b[1;32m     20\u001b[0m     NaT,\n\u001b[1;32m     21\u001b[0m     NaTType,\n\u001b[0;32m   (...)\u001b[0m\n\u001b[1;32m     26\u001b[0m     iNaT,\n\u001b[1;32m     27\u001b[0m )\n",
      "File \u001b[0;32minterval.pyx:1\u001b[0m, in \u001b[0;36minit pandas._libs.interval\u001b[0;34m()\u001b[0m\n",
      "File \u001b[0;32mhashtable.pyx:1\u001b[0m, in \u001b[0;36minit pandas._libs.hashtable\u001b[0;34m()\u001b[0m\n",
      "File \u001b[0;32mmissing.pyx:40\u001b[0m, in \u001b[0;36minit pandas._libs.missing\u001b[0;34m()\u001b[0m\n",
      "\u001b[0;31mAttributeError\u001b[0m: partially initialized module 'pandas' has no attribute '_pandas_datetime_CAPI' (most likely due to a circular import)"
     ]
    }
   ],
   "source": [
    "import pandas as pd\n",
    "from sklearn.datasets import load_iris\n",
    "\n",
    "iris = load_iris(as_frame=True).frame\n",
    "iris"
   ]
  },
  {
   "cell_type": "code",
   "execution_count": null,
   "metadata": {},
   "outputs": [],
   "source": [
    "iris.describe()"
   ]
  },
  {
   "cell_type": "markdown",
   "metadata": {},
   "source": [
    "### 2. Group-wise Statistics\n",
    "\n",
    "**Dataset:** Titanic  \n",
    "**Problem:** Compute average age for passengers grouped by class and survival status."
   ]
  },
  {
   "cell_type": "code",
   "execution_count": null,
   "metadata": {},
   "outputs": [],
   "source": [
    "import seaborn as sns\n",
    "\n",
    "titanic = sns.load_dataset(\"titanic\")\n",
    "titanic"
   ]
  },
  {
   "cell_type": "code",
   "execution_count": null,
   "metadata": {},
   "outputs": [],
   "source": [
    "titanic.groupby(['class', 'survived'])['age'].mean()"
   ]
  },
  {
   "cell_type": "markdown",
   "metadata": {},
   "source": [
    "### 3. Frequency Distribution\n",
    "\n",
    "**Dataset:** Titanic  \n",
    "**Problem:** Count the number of passengers in each embarkation port."
   ]
  },
  {
   "cell_type": "code",
   "execution_count": null,
   "metadata": {},
   "outputs": [],
   "source": [
    "titanic['embark_town'].value_counts()"
   ]
  },
  {
   "cell_type": "markdown",
   "metadata": {},
   "source": [
    "### 4. Data Imbalance Check\n",
    "\n",
    "**Dataset:** Wine Quality  \n",
    "**Problem:** Check the distribution of wine quality scores."
   ]
  },
  {
   "cell_type": "code",
   "execution_count": null,
   "metadata": {},
   "outputs": [],
   "source": [
    "wine = pd.read_csv(\"https://archive.ics.uci.edu/ml/machine-learning-databases/wine-quality/winequality-red.csv\", sep=';')\n",
    "wine['quality'].value_counts()"
   ]
  },
  {
   "cell_type": "markdown",
   "metadata": {},
   "source": [
    "### 5. Skewness and Kurtosis\n",
    "\n",
    "**Dataset:** Iris  \n",
    "**Problem:** Analyze skewness and kurtosis of petal length and width.\n",
    "\n",
    "**See also:**\n",
    "- https://en.wikipedia.org/wiki/Skewness\n",
    "- https://en.wikipedia.org/wiki/Kurtosis\n",
    "- https://pandas.pydata.org/pandas-docs/stable/reference/api/pandas.DataFrame.apply.html"
   ]
  },
  {
   "cell_type": "code",
   "execution_count": null,
   "metadata": {},
   "outputs": [],
   "source": [
    "from scipy.stats import skew, kurtosis\n",
    "\n",
    "print(\"Skewness:\", iris[['petal length (cm)', 'petal width (cm)']].apply(skew))\n",
    "print(\"Kurtosis:\", iris[['petal length (cm)', 'petal width (cm)']].apply(kurtosis))"
   ]
  },
  {
   "cell_type": "markdown",
   "metadata": {},
   "source": [
    "### 7. Missing Value Analysis\n",
    "\n",
    "**Dataset:** Titanic  \n",
    "**Problem:** Check for missing values and calculate the percentage of missing data for each column."
   ]
  },
  {
   "cell_type": "code",
   "execution_count": null,
   "metadata": {},
   "outputs": [],
   "source": [
    "titanic.isnull()"
   ]
  },
  {
   "cell_type": "code",
   "execution_count": null,
   "metadata": {},
   "outputs": [],
   "source": [
    "titanic.isnull().sum() / len(titanic) * 100"
   ]
  },
  {
   "cell_type": "markdown",
   "metadata": {},
   "source": [
    "### 8. Feature Comparisons\n",
    "\n",
    "**Dataset:** Wine Quality  \n",
    "**Problem:** Compare average alcohol content for wines of different quality levels."
   ]
  },
  {
   "cell_type": "code",
   "execution_count": null,
   "metadata": {},
   "outputs": [],
   "source": [
    "wine.groupby('quality')['alcohol'].mean()"
   ]
  },
  {
   "cell_type": "markdown",
   "metadata": {},
   "source": [
    "### 9. Class Imbalance in a Target Variable\n",
    "\n",
    "**Dataset:** Titanic  \n",
    "**Problem:** Assess the survival rate by analyzing the survived column."
   ]
  },
  {
   "cell_type": "code",
   "execution_count": null,
   "metadata": {},
   "outputs": [],
   "source": [
    "titanic['survived'].value_counts(normalize=True) * 100"
   ]
  },
  {
   "cell_type": "markdown",
   "metadata": {},
   "source": [
    "---\n",
    "## Data visualisation\n",
    "---"
   ]
  },
  {
   "cell_type": "markdown",
   "metadata": {},
   "source": [
    "### 1. Histogram for Distribution\n",
    "\n",
    "**Dataset:** Wine Quality  \n",
    "**Problem:** Visualize the distribution of alcohol content."
   ]
  },
  {
   "cell_type": "code",
   "execution_count": null,
   "metadata": {},
   "outputs": [],
   "source": [
    "import pandas as pd\n",
    "import matplotlib.pyplot as plt\n",
    "\n",
    "wine = pd.read_csv(\"https://archive.ics.uci.edu/ml/machine-learning-databases/wine-quality/winequality-red.csv\", sep=';')\n",
    "wine['alcohol'].plot(kind='hist', bins=20, title='Alcohol Content Distribution', color='skyblue')\n",
    "plt.xlabel('Alcohol')\n",
    "plt.show()"
   ]
  },
  {
   "cell_type": "markdown",
   "metadata": {},
   "source": [
    "### 2. Boxplot for Outlier Detection\n",
    "\n",
    "**Dataset:** Iris  \n",
    "**Problem:** Identify outliers in sepal length for different species."
   ]
  },
  {
   "cell_type": "code",
   "execution_count": null,
   "metadata": {},
   "outputs": [],
   "source": [
    "import seaborn as sns\n",
    "from sklearn.datasets import load_iris\n",
    "import pandas as pd\n",
    "\n",
    "iris = load_iris(as_frame=True).frame\n",
    "sns.boxplot(x='target', y='sepal length (cm)', data=iris)\n",
    "plt.xlabel('Species')\n",
    "plt.ylabel('Sepal Length')\n",
    "plt.title('Boxplot of Sepal Length by Species')\n",
    "plt.show()"
   ]
  },
  {
   "cell_type": "markdown",
   "metadata": {},
   "source": [
    "### 3. Correlation Heatmap\n",
    "\n",
    "**Dataset:** Wine Quality  \n",
    "**Problem:** Visualize correlation among numeric features."
   ]
  },
  {
   "cell_type": "code",
   "execution_count": null,
   "metadata": {},
   "outputs": [],
   "source": [
    "import seaborn as sns\n",
    "\n",
    "plt.figure(figsize=(10, 8))\n",
    "sns.heatmap(wine.corr(), annot=True, fmt='.2f', cmap='coolwarm')\n",
    "plt.title('Correlation Heatmap of Wine Features')\n",
    "plt.show()"
   ]
  },
  {
   "cell_type": "markdown",
   "metadata": {},
   "source": [
    "### 4. Pairplot for Feature Relationships\n",
    "\n",
    "**Dataset:** Iris  \n",
    "**Problem:** Visualize pairwise relationships between features."
   ]
  },
  {
   "cell_type": "code",
   "execution_count": null,
   "metadata": {},
   "outputs": [],
   "source": [
    "import seaborn as sns\n",
    "import matplotlib.pyplot as plt\n",
    "\n",
    "# Load the Iris dataset\n",
    "iris = sns.load_dataset('iris')\n",
    "\n",
    "# Create a pairplot\n",
    "sns.set(style='whitegrid')\n",
    "pairplot = sns.pairplot(iris, hue='species', palette='Set2', markers=[\"o\", \"s\", \"D\"])\n",
    "\n",
    "# Add a title\n",
    "plt.suptitle('Pairplot of Iris Dataset', y=1.02)\n",
    "\n",
    "# Show the plot\n",
    "plt.show()"
   ]
  },
  {
   "cell_type": "markdown",
   "metadata": {},
   "source": [
    "### 5. Bar Plot for Counts\n",
    "\n",
    "**Dataset:** Titanic  \n",
    "**Problem:** Show the number of survivors and non-survivors."
   ]
  },
  {
   "cell_type": "code",
   "execution_count": null,
   "metadata": {},
   "outputs": [],
   "source": [
    "titanic = sns.load_dataset('titanic')\n",
    "sns.countplot(x='survived', data=titanic, palette='pastel')\n",
    "plt.title('Survival Counts')\n",
    "plt.xlabel('Survived (0 = No, 1 = Yes)')\n",
    "plt.ylabel('Count')\n",
    "plt.show()"
   ]
  },
  {
   "cell_type": "markdown",
   "metadata": {},
   "source": [
    "### 6. FacetGrid for Subplots\n",
    "\n",
    "**Dataset:** Titanic  \n",
    "**Problem:** Create age distribution plots for different classes."
   ]
  },
  {
   "cell_type": "code",
   "execution_count": null,
   "metadata": {},
   "outputs": [],
   "source": [
    "g = sns.FacetGrid(titanic, col='class', height=4, aspect=1.2)\n",
    "g.map(sns.histplot, 'age', bins=20, kde=True, color='purple')\n",
    "g.set_titles('{col_name} Class')\n",
    "g.set_axis_labels('Age', 'Count')\n",
    "plt.show()"
   ]
  },
  {
   "cell_type": "markdown",
   "metadata": {},
   "source": [
    "### 7. Scatter Plot for Feature Relationships\n",
    "\n",
    "**Dataset:** Iris  \n",
    "**Problem:** Visualize the relationship between petal length and width"
   ]
  },
  {
   "cell_type": "code",
   "execution_count": null,
   "metadata": {},
   "outputs": [],
   "source": [
    "iris"
   ]
  },
  {
   "cell_type": "code",
   "execution_count": null,
   "metadata": {},
   "outputs": [],
   "source": [
    "sns.scatterplot(data=iris, x='petal_length', y='petal_width', hue='species', palette='deep')\n",
    "plt.title('Petal Length vs. Width by Species')\n",
    "plt.show()"
   ]
  },
  {
   "cell_type": "markdown",
   "metadata": {},
   "source": [
    "### 8. Violin Plot for Distribution\n",
    "\n",
    "**Dataset:** Wine Quality  \n",
    "**Problem:** Compare pH levels for different quality levels."
   ]
  },
  {
   "cell_type": "code",
   "execution_count": null,
   "metadata": {},
   "outputs": [],
   "source": [
    "sns.violinplot(x='quality', y='pH', data=wine, palette='muted')\n",
    "plt.title('Distribution of pH by Wine Quality')\n",
    "plt.show()"
   ]
  },
  {
   "cell_type": "markdown",
   "metadata": {},
   "source": [
    "### 9. Line Plot for Trends\n",
    "\n",
    "**Dataset:** Titanic  \n",
    "**Problem:** Show survival rate trends by age."
   ]
  },
  {
   "cell_type": "code",
   "execution_count": null,
   "metadata": {},
   "outputs": [],
   "source": [
    "survival_rate_by_age = titanic.groupby('age')['survived'].mean().dropna()\n",
    "survival_rate_by_age.plot(kind='line', figsize=(10, 5), color='green')\n",
    "plt.title('Survival Rate by Age')\n",
    "plt.xlabel('Age')\n",
    "plt.ylabel('Survival Rate')\n",
    "plt.grid()\n",
    "plt.show()"
   ]
  },
  {
   "cell_type": "markdown",
   "metadata": {},
   "source": [
    "### 10. Stacked Bar Chart for Group Comparisons\n",
    "\n",
    "**Dataset:** Titanic  \n",
    "**Problem:** Compare survival rates across gender and class."
   ]
  },
  {
   "cell_type": "code",
   "execution_count": null,
   "metadata": {},
   "outputs": [],
   "source": [
    "survival_class_gender = titanic.pivot_table(index='class', columns='sex', values='survived', aggfunc='mean')\n",
    "survival_class_gender.plot(kind='bar', stacked=True, figsize=(8, 6), color=['orange', 'lightblue'])\n",
    "plt.title('Survival Rate by Class and Gender')\n",
    "plt.ylabel('Survival Rate')\n",
    "plt.show()"
   ]
  },
  {
   "cell_type": "markdown",
   "metadata": {},
   "source": [
    "---\n",
    "## Basic introduction to machine learning pipelines\n",
    "---\n",
    "\n",
    "There are many machine learning methods and we cannot cover all of them in today's session. To get an overview of relevant and related topics, take a look at scikit-learn that covers many ML methods and concepts: https://scikit-learn.org/stable/index.html\n",
    "\n",
    "Important topics are among others:\n",
    "- Classification Methods\n",
    "- Regression Methods\n",
    "- Clustering Methods\n",
    "- Dimensionality Reduction\n",
    "- Preprocessing Methods\n",
    "- Model Selection and Evaluation\n",
    "\n",
    "Instead of going into breadth, we take a look at some popular methods, including **k-nearest neighbors**, **logistic regression**, **random forest**, and **neural networks**. "
   ]
  },
  {
   "cell_type": "markdown",
   "metadata": {},
   "source": [
    "### K-Nearest Neighbors (KNN)\n",
    "\n",
    "K-Nearest Neighbors is a simple, instance-based learning algorithm used for classification and regression. The algorithm classifies a data point based on how its neighbors are classified. \n",
    "\n",
    "**Algorithm Steps:**\n",
    "1. Choose the number of neighbors $ k $.\n",
    "2. For a given test point, calculate the distance to all training points.\n",
    "3. Identify the $ k $ nearest neighbors.\n",
    "4. Assign the class label based on the majority class among the neighbors.\n",
    "\n",
    "**Distance Metric:**\n",
    "The most common distance metric used is the Euclidean distance, defined as:\n",
    "\n",
    "$$d(p, q) = \\sqrt{\\sum_{i=1}^{n} (p_i - q_i)^2}$$\n",
    "\n",
    "where $ p $ and $ q $ are two points in $ n $-dimensional space.\n"
   ]
  },
  {
   "cell_type": "code",
   "execution_count": null,
   "metadata": {},
   "outputs": [],
   "source": [
    "from sklearn import datasets\n",
    "from sklearn.model_selection import train_test_split\n",
    "from sklearn.neighbors import KNeighborsClassifier\n",
    "from sklearn.metrics import accuracy_score\n",
    "\n",
    "# Load the iris dataset\n",
    "iris = datasets.load_iris()\n",
    "X = iris.data\n",
    "y = iris.target\n",
    "\n",
    "# Split the dataset into training and testing sets\n",
    "X_train, X_test, y_train, y_test = train_test_split(X, y, test_size=0.2, random_state=42)\n",
    "\n",
    "# Create and train the KNN model\n",
    "knn = KNeighborsClassifier(n_neighbors=3)\n",
    "knn.fit(X_train, y_train)\n",
    "\n",
    "# Make predictions\n",
    "y_pred = knn.predict(X_test)\n",
    "\n",
    "# Evaluate the model\n",
    "accuracy = accuracy_score(y_test, y_pred)\n",
    "print(f'Accuracy: {accuracy:.2f}')"
   ]
  },
  {
   "cell_type": "markdown",
   "metadata": {},
   "source": [
    "### Logistic Regression\n",
    "\n",
    "Logistic Regression is a statistical method for predicting binary classes. The output of the model is a probability that the given input point belongs to a certain class.\n",
    "\n",
    "**Model Equation:**\n",
    "The logistic function (sigmoid function) is used to map predicted values to probabilities:\n",
    "\n",
    "$$P(Y=1|X) = \\frac{1}{1 + e^{-(\\beta_0 + \\beta_1X_1 + \\beta_2X_2 + \\ldots + \\beta_nX_n)}}$$\n",
    "\n",
    "where:\n",
    "- $ P(Y=1|X) $ is the probability of the positive class given input features $ X $.\n",
    "- $ \\beta_0 $ is the intercept.\n",
    "- $ \\beta_1, \\beta_2, \\ldots, \\beta_n $ are the coefficients for each feature $ X_1, X_2, \\ldots, X_n $.\n",
    "\n",
    "**Decision Boundary:**\n",
    "The decision boundary is determined by setting the probability threshold (commonly 0.5):\n",
    "\n",
    "$$\\text{If } P(Y=1|X) \\geq 0.5 \\text{, predict } Y=1; \\text{ otherwise, predict } Y=0. \n"
   ]
  },
  {
   "cell_type": "code",
   "execution_count": null,
   "metadata": {},
   "outputs": [],
   "source": [
    "import pandas as pd\n",
    "from sklearn.model_selection import train_test_split\n",
    "from sklearn.linear_model import LogisticRegression\n",
    "from sklearn.metrics import accuracy_score\n",
    "\n",
    "# Load the Titanic dataset\n",
    "titanic_df = sns.load_dataset('titanic') \n",
    "\n",
    "# Preprocess the data (basic preprocessing)\n",
    "titanic_df['sex'] = titanic_df['sex'].map({'male': 0, 'female': 1})\n",
    "titanic_df = titanic_df[['pclass', 'sex', 'age', 'sibsp', 'parch', 'fare', 'survived']].dropna()\n",
    "\n",
    "# Split the dataset\n",
    "X = titanic_df.drop('survived', axis=1)\n",
    "y = titanic_df['survived']\n",
    "X_train, X_test, y_train, y_test = train_test_split(X, y, test_size=0.2, random_state=42)\n",
    "\n",
    "# Create and train the Logistic Regression model\n",
    "log_reg = LogisticRegression()\n",
    "log_reg.fit(X_train, y_train)\n",
    "\n",
    "# Make predictions\n",
    "y_pred = log_reg.predict(X_test)\n",
    "\n",
    "# Evaluate the model\n",
    "accuracy = accuracy_score(y_test, y_pred)\n",
    "print(f'Accuracy: {accuracy:.2f}')"
   ]
  },
  {
   "cell_type": "markdown",
   "metadata": {},
   "source": [
    "### Random Forest Classifier\n",
    "\n",
    "Random Forest is an ensemble learning method that constructs multiple decision trees during training and outputs the mode of the classes (for classification) or the mean prediction (for regression) of the individual trees.\n",
    "\n",
    "**Model Concept:**\n",
    "1. **Bootstrap Aggregating (Bagging):** Randomly sample the dataset with replacement to create multiple subsets.\n",
    "2. **Decision Trees:** For each subset, build a decision tree using a random subset of features.\n",
    "3. **Voting/Averaging:** For classification, the final prediction is made by majority voting among the trees.\n",
    "\n",
    "**Decision Tree Splitting Criterion:**\n",
    "The most common criteria for splitting nodes in a decision tree are Gini impurity and entropy.\n",
    "\n",
    "- **Gini Impurity:**\n",
    "$$Gini(D) = 1 - \\sum_{i=1}^{C} p_i^2$$\n",
    "where $ p_i $ is the proportion of class $ i $ in dataset $ D $.\n",
    "\n",
    "- **Entropy:**\n",
    "$$Entropy(D) = -\\sum_{i=1}^{C} p_i \\log_2(p_i)$$\n",
    "where $ C $ is the number of classes.\n",
    "\n",
    "**Final Prediction:**\n",
    "For classification tasks, the final prediction is made by taking the majority vote from all the individual decision trees in the forest.\n"
   ]
  },
  {
   "cell_type": "code",
   "execution_count": null,
   "metadata": {},
   "outputs": [],
   "source": [
    "import pandas as pd\n",
    "from sklearn.model_selection import train_test_split\n",
    "from sklearn.ensemble import RandomForestClassifier\n",
    "from sklearn.metrics import accuracy_score\n",
    "\n",
    "# Load the Wine Quality dataset\n",
    "# wine_df = pd.read_csv('winequality-red.csv')  # Ensure you have the dataset in the same directory\n",
    "wine_df = pd.read_csv(\"https://archive.ics.uci.edu/ml/machine-learning-databases/wine-quality/winequality-red.csv\", sep=';')\n",
    "\n",
    "# Split the dataset\n",
    "X = wine_df.drop('quality', axis=1)\n",
    "y = wine_df['quality']\n",
    "X_train, X_test, y_train, y_test = train_test_split(X, y, test_size=0.2, random_state=42)\n",
    "\n",
    "# Create and train the Random Forest model\n",
    "rf = RandomForestClassifier(n_estimators=100)\n",
    "rf.fit(X_train, y_train)\n",
    "\n",
    "# Make predictions\n",
    "y_pred = rf.predict(X_test)\n",
    "\n",
    "# Evaluate the model\n",
    "accuracy = accuracy_score(y_test, y_pred)\n",
    "print(f'Accuracy: {accuracy:.2f}')"
   ]
  },
  {
   "cell_type": "markdown",
   "metadata": {},
   "source": [
    "### Neural Network for Iris Dataset with TensorFlow\n",
    "\n",
    "A neural network is a computational model inspired by the way biological neural networks in the human brain process information. It consists of layers of interconnected nodes (neurons) that can learn complex patterns in data.\n",
    "\n",
    "**Model Architecture:**\n",
    "- Input Layer: 4 neurons (one for each feature: sepal length, sepal width, petal length, petal width).\n",
    "- Hidden Layer: A configurable number of neurons (e.g., 16).\n",
    "- Hidden Layer: A configurable number of neurons (e.g., 8).\n",
    "- Output Layer: 3 neurons (one for each class of Iris).\n",
    "\n",
    "**Activation Function:**\n",
    "The activation function introduces non-linearity into the model. A common choice is the ReLU (Rectified Linear Unit) function:\n",
    "\n",
    "$$f(x) = \\max(0, x)$$\n",
    "\n",
    "For the output layer, the softmax function is often used for multi-class classification:\n",
    "\n",
    "$$P(y_i|x) = \\frac{e^{z_i}}{\\sum_{j=1}^{C} e^{z_j}}$$\n",
    "\n",
    "**Loss Function:**\n",
    "For multi-class classification, the categorical cross-entropy loss is commonly used:\n",
    "\n",
    "$$L(y, \\hat{y}) = -\\sum_{i=1}^{C} y_i \\log(\\hat{y}_i)$$\n",
    "\n",
    "where $ y $ is the true label and $ \\hat{y} $ is the predicted probability distribution.\n"
   ]
  },
  {
   "cell_type": "code",
   "execution_count": null,
   "metadata": {},
   "outputs": [],
   "source": [
    "import tensorflow as tf\n",
    "from sklearn.datasets import load_iris\n",
    "from sklearn.model_selection import train_test_split\n",
    "from sklearn.preprocessing import OneHotEncoder, StandardScaler\n",
    "import numpy as np\n",
    "\n",
    "# Load the Iris dataset\n",
    "iris = load_iris()\n",
    "X = iris.data  # Features\n",
    "y = iris.target.reshape(-1, 1)  # Target (reshaped to column vector)\n",
    "\n",
    "# One-hot encode the target variable\n",
    "encoder = OneHotEncoder(sparse_output=False)\n",
    "y_encoded = encoder.fit_transform(y)\n",
    "\n",
    "# Standardize the features\n",
    "scaler = StandardScaler()\n",
    "X_scaled = scaler.fit_transform(X)\n",
    "\n",
    "# Split the dataset\n",
    "X_train, X_test, y_train, y_test = train_test_split(X_scaled, y_encoded, test_size=0.2, random_state=42)\n",
    "\n",
    "# Build the Neural Network\n",
    "model = tf.keras.Sequential([\n",
    "    tf.keras.layers.Dense(16, activation='relu', input_shape=(X_train.shape[1],)),  # Hidden layer 1\n",
    "    tf.keras.layers.Dense(8, activation='relu'),  # Hidden layer 2\n",
    "    tf.keras.layers.Dense(3, activation='softmax')  # Output layer (3 classes)\n",
    "])\n",
    "\n",
    "# Compile the model\n",
    "model.compile(optimizer='adam',\n",
    "              loss='categorical_crossentropy',\n",
    "              metrics=['accuracy'])\n",
    "\n",
    "# Train the model\n",
    "history = model.fit(X_train, y_train, epochs=100, batch_size=8, validation_split=0.2, verbose=1)\n",
    "\n",
    "# Evaluate the model\n",
    "test_loss, test_accuracy = model.evaluate(X_test, y_test, verbose=0)\n",
    "print(f\"Test Accuracy: {test_accuracy:.2f}\")\n",
    "\n",
    "# Predict on new data\n",
    "predictions = model.predict(X_test)\n",
    "predicted_classes = np.argmax(predictions, axis=1)\n",
    "true_classes = np.argmax(y_test, axis=1)\n",
    "\n",
    "# Display predictions and true classes\n",
    "print(\"Predicted classes:\", predicted_classes)\n",
    "print(\"True classes:\", true_classes)"
   ]
  },
  {
   "cell_type": "markdown",
   "metadata": {},
   "source": [
    "_What happened in the code above?_ \n",
    "\n",
    "**Neural Network Structure:**  \n",
    "- **Input Layer:** Takes 4 features (sepal length, sepal width, petal length, petal width).\n",
    "- **Hidden Layers:** Two hidden layers with ReLU activation.\n",
    "- **Output Layer:** Three neurons (for the three Iris classes) with softmax activation.\n",
    "Preprocessing: One-Hot Encoding: Converts class labels (0, 1, 2) into one-hot vectors. Feature Scaling: Standardizes the feature values for better performance.\n",
    "\n",
    "**Loss Function:** categorical_crossentropy is used since this is a multi-class classification problem.\n",
    "\n",
    "**Metrics:** Accuracy is used as the performance metric.\n",
    "\n",
    "**Training:** Uses the Adam optimizer with 100 epochs and a batch size of 8. A validation split of 20% is used for monitoring overfitting.\n",
    "\n",
    "**Evaluation:** The model is evaluated on the test set, and accuracy is reported. Predictions are converted from probabilities to class labels using np.argmax."
   ]
  },
  {
   "cell_type": "markdown",
   "metadata": {},
   "source": [
    "### Neural Network for Titanic Dataset with TensorFlow\n",
    "\n",
    "A neural network can be used to predict survival on the Titanic based on various features such as passenger class, sex, age, and fare.\n",
    "\n",
    "**Model Architecture:**\n",
    "- Input Layer: Number of neurons equal to the number of features (e.g., 6 after preprocessing).\n",
    "- Hidden Layer: A configurable number of neurons (e.g., 10-20).\n",
    "- Output Layer: 1 neuron (for binary classification: survived or not).\n",
    "\n",
    "**Activation Function:**\n",
    "Commonly used activation functions include ReLU for hidden layers:\n",
    "\n",
    "$$f(x) = \\max(0, x)$$\n",
    "\n",
    "For the output layer, the sigmoid function is used for binary classification:\n",
    "\n",
    "$$P(Y=1|X) = \\frac{1}{1 + e^{-(\\beta_0 + \\beta_1X_1 + \\beta_2X_2 + \\ldots + \\beta_nX_n)}}$$\n",
    "\n",
    "**Loss Function:**\n",
    "For binary classification, the binary cross-entropy loss is used:\n",
    "\n",
    "$$L(y, \\hat{y}) = -\\left( y \\log(\\hat{y}) + (1 - y) \\log(1 - \\hat{y}) \\right)$$\n"
   ]
  },
  {
   "cell_type": "code",
   "execution_count": null,
   "metadata": {},
   "outputs": [],
   "source": [
    "import pandas as pd\n",
    "from sklearn.model_selection import train_test_split\n",
    "from sklearn.preprocessing import StandardScaler\n",
    "import tensorflow as tf\n",
    "\n",
    "# Load the Titanic dataset\n",
    "titanic_df = sns.load_dataset('titanic') \n",
    "\n",
    "# Preprocess the data (basic preprocessing)\n",
    "titanic_df['sex'] = titanic_df['sex'].map({'male': 0, 'female': 1})\n",
    "titanic_df = titanic_df[['pclass', 'sex', 'age', 'sibsp', 'parch', 'fare', 'survived']].dropna()\n",
    "\n",
    "# Split the dataset\n",
    "X = titanic_df.drop('survived', axis=1)\n",
    "y = titanic_df['survived']\n",
    "\n",
    "# Split the dataset into training and testing sets\n",
    "X_train, X_test, y_train, y_test = train_test_split(X, y, test_size=0.2, random_state=42)\n",
    "\n",
    "# Standardize the features\n",
    "scaler = StandardScaler()\n",
    "X_train = scaler.fit_transform(X_train)\n",
    "X_test = scaler.transform(X_test)\n",
    "\n",
    "# Build the neural network model\n",
    "model = tf.keras.Sequential([\n",
    "    tf.keras.layers.Dense(10, activation='relu', input_shape=(X_train.shape[1],)),\n",
    "    tf.keras.layers.Dense(1, activation='sigmoid')\n",
    "])\n",
    "\n",
    "# Compile the model\n",
    "model.compile(optimizer='adam', loss='binary_crossentropy', metrics=['accuracy'])\n",
    "\n",
    "# Train the model\n",
    "model.fit(X_train, y_train, epochs=100, batch_size=5, verbose=1)\n",
    "\n",
    "# Evaluate the model\n",
    "loss, accuracy = model.evaluate(X_test, y_test)\n",
    "print(f'Accuracy: {accuracy:.2f}')"
   ]
  },
  {
   "cell_type": "markdown",
   "metadata": {},
   "source": [
    "_What happened in the code above?_ \n",
    " \n",
    "**Data Loading and Preprocessing:** The Titanic dataset is loaded, and basic preprocessing is performed, including encoding the 'sex' feature and dropping rows with missing values.\n",
    "\n",
    "**Feature and Target Separation:** The features (X) and target variable (y) are separated.\n",
    "\n",
    "**Train-Test Split:** The dataset is split into training and testing sets.\n",
    "\n",
    "**Feature Scaling:** The features are standardized using StandardScaler.\n",
    "\n",
    "**Model Building:** A simple neural network model is created with one hidden layer using ReLU activation and an output layer with a sigmoid activation function.\n",
    "\n",
    "**Model Compilation:** The model is compiled with the Adam optimizer and binary cross-entropy loss.\n",
    "\n",
    "**Model Training:** The model is trained on the training data.\n",
    "\n",
    "**Model Evaluation:** The model is evaluated on the test data, and the accuracy is printed.\n"
   ]
  },
  {
   "cell_type": "markdown",
   "metadata": {},
   "source": [
    "### Neural Network for Wine Quality Dataset with TensorFlow\n",
    "\n",
    "A neural network can be used to predict the quality of wine based on various chemical properties.\n",
    "\n",
    "**Model Architecture:**\n",
    "- Input Layer: Number of neurons equal to the number of features (e.g., 11 for the Wine Quality dataset).\n",
    "- Hidden Layer: A configurable number of neurons (e.g., 10-30).\n",
    "- Output Layer: 1 neuron (for regression predicting wine quality on a scale).\n",
    "\n",
    "**Activation Function:**\n",
    "ReLU is commonly used for hidden layers:\n",
    "\n",
    "$$f(x) = \\max(0, x)$$\n",
    "\n",
    "For the output layer, a linear activation function is used for regression:\n",
    "\n",
    "$$f(x) = x$$\n",
    "\n",
    "**Loss Function:**\n",
    "For regression tasks, the mean squared error (MSE) is commonly used:\n",
    "\n",
    "$$MSE = \\frac{1}{n} \\sum_{i=1}^{n} (y_i - \\hat{y}_i)^2$$\n"
   ]
  },
  {
   "cell_type": "code",
   "execution_count": null,
   "metadata": {},
   "outputs": [],
   "source": [
    "import pandas as pd\n",
    "from sklearn.model_selection import train_test_split\n",
    "from sklearn.preprocessing import StandardScaler\n",
    "import tensorflow as tf\n",
    "\n",
    "# Load the Wine Quality dataset\n",
    "# wine_df = pd.read_csv('winequality-red.csv')  # Ensure you have the dataset in the same directory\n",
    "wine_df = pd.read_csv(\"https://archive.ics.uci.edu/ml/machine-learning-databases/wine-quality/winequality-red.csv\", sep=';')\n",
    "\n",
    "# Split the dataset into features and target variable\n",
    "X = wine_df.drop('quality', axis=1)\n",
    "y = wine_df['quality']\n",
    "\n",
    "# Split the dataset into training and testing sets\n",
    "X_train, X_test, y_train, y_test = train_test_split(X, y, test_size=0.2, random_state=42)\n",
    "\n",
    "# Standardize the features\n",
    "scaler = StandardScaler()\n",
    "X_train = scaler.fit_transform(X_train)\n",
    "X_test = scaler.transform(X_test)\n",
    "\n",
    "# Build the neural network model\n",
    "model = tf.keras.Sequential([\n",
    "    tf.keras.layers.Dense(30, activation='relu', input_shape=(X_train.shape[1],)),\n",
    "    tf.keras.layers.Dense(1, activation='linear')\n",
    "])\n",
    "\n",
    "# Compile the model\n",
    "model.compile(optimizer='adam', loss='mean_squared_error', metrics=['mean_absolute_error'])\n",
    "\n",
    "# Train the model\n",
    "model.fit(X_train, y_train, epochs=1000, batch_size=5, verbose=1)\n",
    "\n",
    "# Evaluate the model\n",
    "loss, mae = model.evaluate(X_test, y_test)\n",
    "print(f'Mean Absolute Error: {mae:.2f}')"
   ]
  },
  {
   "cell_type": "markdown",
   "metadata": {},
   "source": [
    "_What happened in the code above?_ \n",
    "\n",
    "**Data Loading:** The Wine Quality dataset is loaded into a DataFrame.\n",
    "\n",
    "**Feature and Target Separation:** The features (X) and target variable (y) are separated, with 'quality' as the target.\n",
    "\n",
    "**Train-Test Split:** The dataset is split into training and testing sets.\n",
    "\n",
    "**Feature Scaling:** The features are standardized using StandardScaler.\n",
    "\n",
    "**Model Building:** A simple neural network model is created with one hidden layer using ReLU activation and an output layer with a linear activation function.\n",
    "\n",
    "**Model Compilation:** The model is compiled with the Adam optimizer and mean squared error loss.\n",
    "\n",
    "**Model Training:** The model is trained on the training data.\n",
    "\n",
    "**Model Evaluation:** The model is evaluated on the test data, and the mean absolute error (MAE) is printed.\n"
   ]
  },
  {
   "cell_type": "markdown",
   "metadata": {},
   "source": [
    "---\n",
    "## Lab assignment\n",
    "---\n",
    "\n",
    "In order to recap the things you have learned today. You will apply the concepts and methods to another dataset. **Pick one** of the following datasets and conduct some reasonable methods for basic statistics, data visualization, and machine learning.\n",
    "\n",
    "- **Adult Income Dataset:** https://archive.ics.uci.edu/ml/datasets/adult\n",
    "- **Heart Disease Dataset:** https://www.kaggle.com/ronitf/heart-disease-uci\n",
    "- **NYC Airbnb Listings:** http://insideairbnb.com/get-the-data.html\n",
    "- **COVID-19 Data:** https://github.com/owid/covid-19-data\n",
    "- **Car Evaluation Dataset:** https://archive.ics.uci.edu/ml/datasets/car+evaluation\n",
    "- **World Happiness Report:** https://worldhappiness.report/\n",
    "- **Supermarket Sales Dataset:** https://www.kaggle.com/aungpyaeap/supermarket-sales"
   ]
  },
  {
   "cell_type": "code",
   "execution_count": 4,
   "metadata": {},
   "outputs": [
    {
     "name": "stdout",
     "output_type": "stream",
     "text": [
      "\n",
      "--- Überblick ---\n",
      "   age         workclass  fnlwgt  education  education-num  \\\n",
      "0   39         State-gov   77516  Bachelors             13   \n",
      "1   50  Self-emp-not-inc   83311  Bachelors             13   \n",
      "2   38           Private  215646    HS-grad              9   \n",
      "3   53           Private  234721       11th              7   \n",
      "4   28           Private  338409  Bachelors             13   \n",
      "\n",
      "       marital-status         occupation   relationship   race     sex  \\\n",
      "0       Never-married       Adm-clerical  Not-in-family  White    Male   \n",
      "1  Married-civ-spouse    Exec-managerial        Husband  White    Male   \n",
      "2            Divorced  Handlers-cleaners  Not-in-family  White    Male   \n",
      "3  Married-civ-spouse  Handlers-cleaners        Husband  Black    Male   \n",
      "4  Married-civ-spouse     Prof-specialty           Wife  Black  Female   \n",
      "\n",
      "   capital-gain  capital-loss  hours-per-week native-country income  \n",
      "0          2174             0              40  United-States  <=50K  \n",
      "1             0             0              13  United-States  <=50K  \n",
      "2             0             0              40  United-States  <=50K  \n",
      "3             0             0              40  United-States  <=50K  \n",
      "4             0             0              40           Cuba  <=50K  \n",
      "<class 'pandas.core.frame.DataFrame'>\n",
      "RangeIndex: 32561 entries, 0 to 32560\n",
      "Data columns (total 15 columns):\n",
      " #   Column          Non-Null Count  Dtype \n",
      "---  ------          --------------  ----- \n",
      " 0   age             32561 non-null  int64 \n",
      " 1   workclass       30725 non-null  object\n",
      " 2   fnlwgt          32561 non-null  int64 \n",
      " 3   education       32561 non-null  object\n",
      " 4   education-num   32561 non-null  int64 \n",
      " 5   marital-status  32561 non-null  object\n",
      " 6   occupation      30718 non-null  object\n",
      " 7   relationship    32561 non-null  object\n",
      " 8   race            32561 non-null  object\n",
      " 9   sex             32561 non-null  object\n",
      " 10  capital-gain    32561 non-null  int64 \n",
      " 11  capital-loss    32561 non-null  int64 \n",
      " 12  hours-per-week  32561 non-null  int64 \n",
      " 13  native-country  31978 non-null  object\n",
      " 14  income          32561 non-null  object\n",
      "dtypes: int64(6), object(9)\n",
      "memory usage: 3.7+ MB\n",
      "None\n",
      "\n",
      "--- Basis-Statistiken (numerische Spalten) ---\n",
      "                age        fnlwgt  education-num  capital-gain  capital-loss  \\\n",
      "count  30162.000000  3.016200e+04   30162.000000  30162.000000  30162.000000   \n",
      "mean      38.437902  1.897938e+05      10.121312   1092.007858     88.372489   \n",
      "std       13.134665  1.056530e+05       2.549995   7406.346497    404.298370   \n",
      "min       17.000000  1.376900e+04       1.000000      0.000000      0.000000   \n",
      "25%       28.000000  1.176272e+05       9.000000      0.000000      0.000000   \n",
      "50%       37.000000  1.784250e+05      10.000000      0.000000      0.000000   \n",
      "75%       47.000000  2.376285e+05      13.000000      0.000000      0.000000   \n",
      "max       90.000000  1.484705e+06      16.000000  99999.000000   4356.000000   \n",
      "\n",
      "       hours-per-week  \n",
      "count    30162.000000  \n",
      "mean        40.931238  \n",
      "std         11.979984  \n",
      "min          1.000000  \n",
      "25%         40.000000  \n",
      "50%         40.000000  \n",
      "75%         45.000000  \n",
      "max         99.000000  \n"
     ]
    },
    {
     "data": {
      "image/png": "[encoded data removed]",
      "text/plain": [
       "<Figure size 600x400 with 1 Axes>"
      ]
     },
     "metadata": {},
     "output_type": "display_data"
    },
    {
     "name": "stdout",
     "output_type": "stream",
     "text": [
      "\n",
      "--- Modellgüte ---\n",
      "Accuracy: 0.832587435769932\n",
      "              precision    recall  f1-score   support\n",
      "\n",
      "           0       0.86      0.93      0.89      4503\n",
      "           1       0.72      0.56      0.63      1530\n",
      "\n",
      "    accuracy                           0.83      6033\n",
      "   macro avg       0.79      0.74      0.76      6033\n",
      "weighted avg       0.82      0.83      0.82      6033\n",
      "\n"
     ]
    },
    {
     "name": "stderr",
     "output_type": "stream",
     "text": [
      "/opt/anaconda3/envs/axa_project/lib/python3.11/site-packages/sklearn/linear_model/_logistic.py:469: ConvergenceWarning: lbfgs failed to converge (status=1):\n",
      "STOP: TOTAL NO. of ITERATIONS REACHED LIMIT.\n",
      "\n",
      "Increase the number of iterations (max_iter) or scale the data as shown in:\n",
      "    https://scikit-learn.org/stable/modules/preprocessing.html\n",
      "Please also refer to the documentation for alternative solver options:\n",
      "    https://scikit-learn.org/stable/modules/linear_model.html#logistic-regression\n",
      "  n_iter_i = _check_optimize_result(\n"
     ]
    }
   ],
   "source": [
    "import pandas as pd\n",
    "import numpy as np\n",
    "import seaborn as sns\n",
    "import matplotlib.pyplot as plt\n",
    "\n",
    "from sklearn.model_selection import train_test_split\n",
    "from sklearn.linear_model import LogisticRegression\n",
    "from sklearn.metrics import accuracy_score, classification_report\n",
    "from sklearn.metrics import confusion_matrix\n",
    "\n",
    "# Spaltennamen des Adult-Datasets\n",
    "column_names = [\n",
    "    \"age\", \"workclass\", \"fnlwgt\", \"education\", \"education-num\",\n",
    "    \"marital-status\", \"occupation\", \"relationship\", \"race\", \"sex\",\n",
    "    \"capital-gain\", \"capital-loss\", \"hours-per-week\", \"native-country\",\n",
    "    \"income\"\n",
    "]\n",
    "\n",
    "# Daten laden\n",
    "df = pd.read_csv(\"adult.data\",\n",
    "                 header=None,\n",
    "                 names=column_names,\n",
    "                 na_values='?',\n",
    "                 sep=\",\",\n",
    "                 skipinitialspace=True)\n",
    "\n",
    "# Erste Zeilen und Info\n",
    "print(\"\\n--- Überblick ---\")\n",
    "print(df.head())\n",
    "print(df.info())\n",
    "\n",
    "# Fehlende Werte entfernen\n",
    "df.dropna(inplace=True)\n",
    "\n",
    "# Statistiken\n",
    "print(df.describe())\n",
    "\n",
    "# Beispielsweise die Verteilung von Alter (Histogramm)\n",
    "plt.figure(figsize=(6,4))\n",
    "sns.histplot(data=df, x='age', kde=True, bins=20)\n",
    "plt.title(\"Altersverteilung\")\n",
    "plt.show()\n",
    "\n",
    "\n",
    "df['income'] = df['income'].apply(lambda x: 1 if x.strip() == '>50K' else 0)\n",
    "\n",
    "# Kategorische Features als Dummies encoden\n",
    "cat_cols = [\n",
    "    \"workclass\", \"education\", \"marital-status\", \"occupation\",\n",
    "    \"relationship\", \"race\", \"sex\", \"native-country\"\n",
    "]\n",
    "df = pd.get_dummies(df, columns=cat_cols, drop_first=True)\n",
    "\n",
    "# Train-Test-Split\n",
    "X = df.drop('income', axis=1)\n",
    "y = df['income']\n",
    "X_train, X_test, y_train, y_test = train_test_split(\n",
    "    X, y, test_size=0.2, random_state=42\n",
    ")\n",
    "\n",
    "# Logistische Regression\n",
    "model = LogisticRegression(max_iter=200)\n",
    "model.fit(X_train, y_train)\n",
    "\n",
    "# Predictions, Accuracy & Classification-Report\n",
    "y_pred = model.predict(X_test)\n",
    "print(\"\\n--- Modellgüte ---\")\n",
    "print(\"Accuracy:\", accuracy_score(y_test, y_pred))\n",
    "print(classification_report(y_test, y_pred))\n",
    "\n",
    "# Confusion Matrix\n",
    "cm = confusion_matrix(y_test, y_pred)\n",
    "\n",
    "# Visualisierung\n",
    "plt.figure(figsize=(5,4))\n",
    "sns.heatmap(cm, annot=True, fmt='d', cmap='Blues',\n",
    "            xticklabels=[\"<=50K\", \">50K\"],\n",
    "            yticklabels=[\"<=50K\", \">50K\"])\n",
    "plt.xlabel(\"Predicted\")\n",
    "plt.ylabel(\"True\")\n",
    "plt.title(\"Confusion Matrix\")\n",
    "plt.show()"
   ]
  }
 ],
 "metadata": {
  "kernelspec": {
   "display_name": "axa_project",
   "language": "python",
   "name": "python3"
  },
  "language_info": {
   "codemirror_mode": {
    "name": "ipython",
    "version": 3
   },
   "file_extension": ".py",
   "mimetype": "text/x-python",
   "name": "python",
   "nbconvert_exporter": "python",
   "pygments_lexer": "ipython3",
   "version": "3.11.10"
  }
 },
 "nbformat": 4,
 "nbformat_minor": 2
}
